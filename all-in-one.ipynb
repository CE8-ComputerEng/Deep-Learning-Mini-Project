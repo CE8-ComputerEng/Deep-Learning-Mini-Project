{
 "cells": [
  {
   "cell_type": "code",
   "execution_count": 6,
   "metadata": {},
   "outputs": [
    {
     "name": "stdout",
     "output_type": "stream",
     "text": [
      "2.0.0\n",
      "2.0.0+cu117\n"
     ]
    },
    {
     "ename": "ImportError",
     "evalue": "cannot import name 'seed_everything' from 'pytorch_lightning.utilities.seed' (/home/ubuntu/.local/lib/python3.10/site-packages/pytorch_lightning/utilities/seed.py)",
     "output_type": "error",
     "traceback": [
      "\u001b[0;31m---------------------------------------------------------------------------\u001b[0m",
      "\u001b[0;31mImportError\u001b[0m                               Traceback (most recent call last)",
      "Cell \u001b[0;32mIn[6], line 11\u001b[0m\n\u001b[1;32m      8\u001b[0m \u001b[39mprint\u001b[39m(seed\u001b[39m.\u001b[39m__version__)\n\u001b[1;32m      9\u001b[0m \u001b[39mprint\u001b[39m(torch\u001b[39m.\u001b[39m__version__)\n\u001b[0;32m---> 11\u001b[0m \u001b[39mfrom\u001b[39;00m \u001b[39mpytorch_lightning\u001b[39;00m\u001b[39m.\u001b[39;00m\u001b[39mutilities\u001b[39;00m\u001b[39m.\u001b[39;00m\u001b[39mseed\u001b[39;00m \u001b[39mimport\u001b[39;00m seed_everything\n\u001b[1;32m     12\u001b[0m \u001b[39mimport\u001b[39;00m \u001b[39mtorchmetrics\u001b[39;00m\n\u001b[1;32m     13\u001b[0m \u001b[39mimport\u001b[39;00m \u001b[39mwandb\u001b[39;00m\n",
      "\u001b[0;31mImportError\u001b[0m: cannot import name 'seed_everything' from 'pytorch_lightning.utilities.seed' (/home/ubuntu/.local/lib/python3.10/site-packages/pytorch_lightning/utilities/seed.py)"
     ]
    }
   ],
   "source": [
    "import pandas as pd\n",
    "import torch\n",
    "from torch import nn\n",
    "from torch.utils.data import DataLoader, random_split\n",
    "import pytorch_lightning as pl\n",
    "from pytorch_lightning.loggers import WandbLogger\n",
    "import torchmetrics\n",
    "import wandb\n",
    "import gc\n",
    "\n",
    "from dataset import CoughDataset\n",
    "\n",
    "import os\n",
    "os.environ['WANDB_API_KEY'] = '72b34cc4c01608a271beb1a67ff4ce2ed54642b5'"
   ]
  },
  {
   "cell_type": "code",
   "execution_count": null,
   "metadata": {},
   "outputs": [],
   "source": [
    "class CoughDataModule(pl.LightningDataModule):\n",
    "    def __init__(self, df, data_path, batch_size=32, num_workers=4, train_size=0.8, val_size=0.1, test_size=0.1):\n",
    "        super().__init__()\n",
    "        \n",
    "        self.df = df\n",
    "        self.data_path = data_path\n",
    "        self.batch_size = batch_size\n",
    "        self.num_workers = num_workers\n",
    "        \n",
    "        self.train_size = train_size\n",
    "        self.val_size = val_size\n",
    "        self.test_size = test_size\n",
    "        \n",
    "        if self.train_size + self.val_size + self.test_size != 1.0:\n",
    "            raise Exception('train_size + val_size + test_size must be equal to 1.0')\n",
    "        \n",
    "    def setup(self, stage=None):\n",
    "        dataset = CoughDataset(self.df, self.data_path)\n",
    "\n",
    "        self.train_dataset, self.val_dataset, self.test_dataset = random_split(dataset, [self.train_size, self.val_size, self.test_size])\n",
    "            \n",
    "    def train_dataloader(self):\n",
    "        return DataLoader(self.train_dataset, batch_size=self.batch_size, shuffle=True, num_workers=self.num_workers)\n",
    "    \n",
    "    def val_dataloader(self):\n",
    "        return DataLoader(self.val_dataset, batch_size=self.batch_size, shuffle=False, num_workers=self.num_workers)\n",
    "    \n",
    "    def test_dataloader(self):\n",
    "        return DataLoader(self.test_dataset, batch_size=self.batch_size, shuffle=False, num_workers=self.num_workers)        "
   ]
  },
  {
   "cell_type": "code",
   "execution_count": null,
   "metadata": {},
   "outputs": [],
   "source": [
    "class CoughModel(nn.Module):\n",
    "    def __init__(self) -> None:\n",
    "        super().__init__()\n",
    "        \n",
    "        # First Convolution Block with Relu and Batch Norm. Use Kaiming Initialization\n",
    "        self.conv1 = nn.Conv2d(1, 8, kernel_size=(5, 5), stride=(2, 2), padding=(2, 2))\n",
    "        self.relu1 = nn.ReLU()\n",
    "        self.bn1 = nn.BatchNorm2d(8)\n",
    "        nn.init.kaiming_normal_(self.conv1.weight, a=0.1)\n",
    "        self.conv1.bias.data.zero_()\n",
    "\n",
    "        # Second Convolution Block\n",
    "        self.conv2 = nn.Conv2d(8, 16, kernel_size=(3, 3), stride=(2, 2), padding=(1, 1))\n",
    "        self.relu2 = nn.ReLU()\n",
    "        self.bn2 = nn.BatchNorm2d(16)\n",
    "        nn.init.kaiming_normal_(self.conv2.weight, a=0.1)\n",
    "        self.conv2.bias.data.zero_()\n",
    "\n",
    "        # Third Convolution Block\n",
    "        self.conv3 = nn.Conv2d(16, 32, kernel_size=(3, 3), stride=(2, 2), padding=(1, 1))\n",
    "        self.relu3 = nn.ReLU()\n",
    "        self.bn3 = nn.BatchNorm2d(32)\n",
    "        nn.init.kaiming_normal_(self.conv3.weight, a=0.1)\n",
    "        self.conv3.bias.data.zero_()\n",
    "\n",
    "        # Forth Convolution Block\n",
    "        self.conv4 = nn.Conv2d(32, 64, kernel_size=(3, 3), stride=(2, 2), padding=(1, 1))\n",
    "        self.relu4 = nn.ReLU()\n",
    "        self.bn4 = nn.BatchNorm2d(64)\n",
    "        nn.init.kaiming_normal_(self.conv4.weight, a=0.1)\n",
    "        self.conv4.bias.data.zero_()\n",
    "\n",
    "        # Linear Classifier\n",
    "        self.ap = nn.AdaptiveAvgPool2d(output_size=1)\n",
    "        self.lin = nn.Linear(in_features=64, out_features=3)\n",
    "        self.act = nn.Softmax(dim=1)\n",
    "        \n",
    "    def forward(self, x):\n",
    "        x = self.conv1(x)\n",
    "        x = self.relu1(x)\n",
    "        x = self.bn1(x)\n",
    "        \n",
    "        x = self.conv2(x)\n",
    "        x = self.relu2(x)\n",
    "        x = self.bn2(x)\n",
    "        \n",
    "        x = self.conv3(x)\n",
    "        x = self.relu3(x)\n",
    "        x = self.bn3(x)\n",
    "        \n",
    "        x = self.conv4(x)\n",
    "        x = self.relu4(x)\n",
    "        x = self.bn4(x)\n",
    "        \n",
    "        x = self.ap(x)\n",
    "        x = x.view(x.shape[0], -1)\n",
    "        \n",
    "        x = self.lin(x)\n",
    "        x = self.act(x)\n",
    "        \n",
    "        return x"
   ]
  },
  {
   "cell_type": "code",
   "execution_count": null,
   "metadata": {},
   "outputs": [],
   "source": [
    "class LitCoughClassifier(pl.LightningModule):\n",
    "    def __init__(self, model, learning_rate=1e-3):\n",
    "        super().__init__()\n",
    "        \n",
    "        self.model = model\n",
    "        self.criterion = nn.CrossEntropyLoss()\n",
    "        \n",
    "        # Hyperparameters\n",
    "        self.learning_rate = learning_rate\n",
    "        \n",
    "        # Metrics\n",
    "        self.accuracy = torchmetrics.Accuracy(task='multiclass', num_classes=3)\n",
    "        self.f1 = torchmetrics.F1Score(task='multiclass', num_classes=3)\n",
    "        # self.precision_recall_curve = torchmetrics.PrecisionRecallCurve(task='multiclass', num_classes=3)\n",
    "        # self.confusion_matrix = torchmetrics.ConfusionMatrix(task='multiclass', num_classes=3)\n",
    "\n",
    "        print('Using device:', self.device)\n",
    "        \n",
    "    def training_step(self, batch, batch_idx):\n",
    "        x, y = batch\n",
    "        \n",
    "        y_hat = self.model(x)\n",
    "        \n",
    "        loss = self.criterion(y_hat, y)\n",
    "        self.log('train_loss', loss, on_epoch=True, logger=True)\n",
    "        \n",
    "        # Metrics\n",
    "        accuracy = self.accuracy(y_hat, y)\n",
    "        self.log('train_accuracy', accuracy, on_epoch=True, prog_bar=True, logger=True)\n",
    "        f1 = self.f1(y_hat, y)\n",
    "        self.log('train_f1', f1, on_epoch=True, prog_bar=True, logger=True)\n",
    "\n",
    "        return loss\n",
    "    \n",
    "    def validation_step(self, batch, batch_idx):\n",
    "        x, y = batch\n",
    "        x, y = x.to(self.device), y.to(self.device)\n",
    "        \n",
    "        # TODO: Move to dataset\n",
    "        # # Normalize the input\n",
    "        # x = (x - x.mean()) / x.std()\n",
    "        \n",
    "        y_hat = self.model(x)\n",
    "        \n",
    "        loss = self.criterion(y_hat, y)\n",
    "        self.log('val_loss', loss, on_epoch=True, logger=True)\n",
    "        \n",
    "        # Metrics\n",
    "        accuracy = self.accuracy(y_hat, y)\n",
    "        self.log('val_accuracy', accuracy, on_epoch=True, logger=True)\n",
    "        f1 = self.f1(y_hat, y)\n",
    "        self.log('val_f1', f1, on_epoch=True, logger=True)\n",
    "        \n",
    "        return loss\n",
    "    \n",
    "    def configure_optimizers(self):\n",
    "        optimizer = torch.optim.Adam(self.model.parameters(), lr=self.learning_rate)\n",
    "        return optimizer"
   ]
  },
  {
   "cell_type": "code",
   "execution_count": null,
   "metadata": {},
   "outputs": [],
   "source": [
    "METADATA_FILE = 'data/metadata_compiled.csv'\n",
    "DATA_PATH = 'data/'\n",
    "\n",
    "metadata_df = pd.read_csv(METADATA_FILE)"
   ]
  },
  {
   "cell_type": "code",
   "execution_count": null,
   "metadata": {},
   "outputs": [
    {
     "data": {
      "text/html": [
       "<div>\n",
       "<style scoped>\n",
       "    .dataframe tbody tr th:only-of-type {\n",
       "        vertical-align: middle;\n",
       "    }\n",
       "\n",
       "    .dataframe tbody tr th {\n",
       "        vertical-align: top;\n",
       "    }\n",
       "\n",
       "    .dataframe thead th {\n",
       "        text-align: right;\n",
       "    }\n",
       "</style>\n",
       "<table border=\"1\" class=\"dataframe\">\n",
       "  <thead>\n",
       "    <tr style=\"text-align: right;\">\n",
       "      <th></th>\n",
       "      <th>uuid</th>\n",
       "      <th>cough_detected</th>\n",
       "      <th>SNR</th>\n",
       "      <th>age</th>\n",
       "      <th>gender</th>\n",
       "      <th>status</th>\n",
       "    </tr>\n",
       "  </thead>\n",
       "  <tbody>\n",
       "    <tr>\n",
       "      <th>1</th>\n",
       "      <td>00039425-7f3a-42aa-ac13-834aaa2b6b92</td>\n",
       "      <td>0.9609</td>\n",
       "      <td>16.151433</td>\n",
       "      <td>15.0</td>\n",
       "      <td>male</td>\n",
       "      <td>healthy</td>\n",
       "    </tr>\n",
       "    <tr>\n",
       "      <th>3</th>\n",
       "      <td>0009eb28-d8be-4dc1-92bb-907e53bc5c7a</td>\n",
       "      <td>0.9301</td>\n",
       "      <td>20.146058</td>\n",
       "      <td>34.0</td>\n",
       "      <td>male</td>\n",
       "      <td>healthy</td>\n",
       "    </tr>\n",
       "    <tr>\n",
       "      <th>5</th>\n",
       "      <td>001328dc-ea5d-4847-9ccf-c5aa2a3f2d0f</td>\n",
       "      <td>0.9968</td>\n",
       "      <td>13.146502</td>\n",
       "      <td>21.0</td>\n",
       "      <td>male</td>\n",
       "      <td>healthy</td>\n",
       "    </tr>\n",
       "    <tr>\n",
       "      <th>11</th>\n",
       "      <td>00291cce-36a0-4a29-9e2d-c1d96ca17242</td>\n",
       "      <td>0.9883</td>\n",
       "      <td>14.603851</td>\n",
       "      <td>15.0</td>\n",
       "      <td>male</td>\n",
       "      <td>healthy</td>\n",
       "    </tr>\n",
       "    <tr>\n",
       "      <th>12</th>\n",
       "      <td>0029d048-898a-4c70-89c7-0815cdcf7391</td>\n",
       "      <td>1.0000</td>\n",
       "      <td>9.624196</td>\n",
       "      <td>35.0</td>\n",
       "      <td>male</td>\n",
       "      <td>symptomatic</td>\n",
       "    </tr>\n",
       "    <tr>\n",
       "      <th>...</th>\n",
       "      <td>...</td>\n",
       "      <td>...</td>\n",
       "      <td>...</td>\n",
       "      <td>...</td>\n",
       "      <td>...</td>\n",
       "      <td>...</td>\n",
       "    </tr>\n",
       "    <tr>\n",
       "      <th>27535</th>\n",
       "      <td>ffd42893-4119-4855-9aad-c67d8d392cc1</td>\n",
       "      <td>0.9414</td>\n",
       "      <td>28.530965</td>\n",
       "      <td>26.0</td>\n",
       "      <td>male</td>\n",
       "      <td>healthy</td>\n",
       "    </tr>\n",
       "    <tr>\n",
       "      <th>27539</th>\n",
       "      <td>ffe0658f-bade-4654-ad79-40a468aabb03</td>\n",
       "      <td>1.0000</td>\n",
       "      <td>21.960583</td>\n",
       "      <td>22.0</td>\n",
       "      <td>male</td>\n",
       "      <td>COVID-19</td>\n",
       "    </tr>\n",
       "    <tr>\n",
       "      <th>27540</th>\n",
       "      <td>ffe13fcf-c5c2-4a6a-a9fc-e010f4f033c1</td>\n",
       "      <td>0.9485</td>\n",
       "      <td>9.966762</td>\n",
       "      <td>31.0</td>\n",
       "      <td>male</td>\n",
       "      <td>symptomatic</td>\n",
       "    </tr>\n",
       "    <tr>\n",
       "      <th>27542</th>\n",
       "      <td>ffedc843-bfc2-4ad6-a749-2bc86bdac84a</td>\n",
       "      <td>1.0000</td>\n",
       "      <td>33.661082</td>\n",
       "      <td>23.0</td>\n",
       "      <td>male</td>\n",
       "      <td>healthy</td>\n",
       "    </tr>\n",
       "    <tr>\n",
       "      <th>27543</th>\n",
       "      <td>ffeea120-92a4-40f9-b692-c3865c7a983f</td>\n",
       "      <td>0.9784</td>\n",
       "      <td>9.635425</td>\n",
       "      <td>22.0</td>\n",
       "      <td>female</td>\n",
       "      <td>healthy</td>\n",
       "    </tr>\n",
       "  </tbody>\n",
       "</table>\n",
       "<p>9471 rows × 6 columns</p>\n",
       "</div>"
      ],
      "text/plain": [
       "                                       uuid  cough_detected        SNR   age  \\\n",
       "1      00039425-7f3a-42aa-ac13-834aaa2b6b92          0.9609  16.151433  15.0   \n",
       "3      0009eb28-d8be-4dc1-92bb-907e53bc5c7a          0.9301  20.146058  34.0   \n",
       "5      001328dc-ea5d-4847-9ccf-c5aa2a3f2d0f          0.9968  13.146502  21.0   \n",
       "11     00291cce-36a0-4a29-9e2d-c1d96ca17242          0.9883  14.603851  15.0   \n",
       "12     0029d048-898a-4c70-89c7-0815cdcf7391          1.0000   9.624196  35.0   \n",
       "...                                     ...             ...        ...   ...   \n",
       "27535  ffd42893-4119-4855-9aad-c67d8d392cc1          0.9414  28.530965  26.0   \n",
       "27539  ffe0658f-bade-4654-ad79-40a468aabb03          1.0000  21.960583  22.0   \n",
       "27540  ffe13fcf-c5c2-4a6a-a9fc-e010f4f033c1          0.9485   9.966762  31.0   \n",
       "27542  ffedc843-bfc2-4ad6-a749-2bc86bdac84a          1.0000  33.661082  23.0   \n",
       "27543  ffeea120-92a4-40f9-b692-c3865c7a983f          0.9784   9.635425  22.0   \n",
       "\n",
       "       gender       status  \n",
       "1        male      healthy  \n",
       "3        male      healthy  \n",
       "5        male      healthy  \n",
       "11       male      healthy  \n",
       "12       male  symptomatic  \n",
       "...       ...          ...  \n",
       "27535    male      healthy  \n",
       "27539    male     COVID-19  \n",
       "27540    male  symptomatic  \n",
       "27542    male      healthy  \n",
       "27543  female      healthy  \n",
       "\n",
       "[9471 rows x 6 columns]"
      ]
     },
     "execution_count": 6,
     "metadata": {},
     "output_type": "execute_result"
    }
   ],
   "source": [
    "not_nan_df = metadata_df[metadata_df['status'].isna() == False]\n",
    "filtered_df = not_nan_df[not_nan_df['cough_detected'] > 0.9]    # TODO: Set as a hyperparameter\n",
    "filtered_df[['uuid', 'cough_detected', 'SNR', 'age', 'gender', 'status']]"
   ]
  },
  {
   "cell_type": "code",
   "execution_count": null,
   "metadata": {},
   "outputs": [],
   "source": [
    "TRAIN_SPLIT = 0.8\n",
    "VAL_SPLIT = 0.1\n",
    "TEST_SPLIT = 0.1\n",
    "NUM_WORKERS = 4\n",
    "\n",
    "def train(config=None):\n",
    "    with wandb.init(config=config):\n",
    "        config = wandb.config\n",
    "        \n",
    "        gc.collect()\n",
    "        torch.cuda.empty_cache()\n",
    "        \n",
    "        try:    \n",
    "            torch.manual_seed(69) # noice\n",
    "            \n",
    "            wandb_logger = WandbLogger(log_model=True)\n",
    "            \n",
    "            data_module = CoughDataModule(df=filtered_df, \n",
    "                              data_path=DATA_PATH, \n",
    "                              batch_size=config.batch_size, \n",
    "                              num_workers=NUM_WORKERS, \n",
    "                              train_size=TRAIN_SPLIT, \n",
    "                              val_size=VAL_SPLIT, \n",
    "                              test_size=TEST_SPLIT)\n",
    "\n",
    "            model = CoughModel()\n",
    "            classifier = LitCoughClassifier(model=model, \n",
    "                                            learning_rate=config.learning_rate)\n",
    "            \n",
    "            trainer = pl.Trainer(\n",
    "                max_epochs=config.max_epochs,\n",
    "                logger=wandb_logger,\n",
    "            )\n",
    "            \n",
    "            trainer.fit(classifier, data_module)\n",
    "            \n",
    "        except Exception as e:\n",
    "            print(e)\n",
    "            wandb.finish()\n",
    "            raise e\n",
    "        \n",
    "        del wandb_logger\n",
    "        del data_module\n",
    "        del model\n",
    "        del classifier\n",
    "        del trainer\n",
    "        \n",
    "        gc.collect()\n",
    "        torch.cuda.empty_cache()"
   ]
  },
  {
   "cell_type": "code",
   "execution_count": null,
   "metadata": {},
   "outputs": [
    {
     "name": "stdout",
     "output_type": "stream",
     "text": [
      "Create sweep with ID: nt6eryc9\n",
      "Sweep URL: https://wandb.ai/axel-toft/cough-classifier/sweeps/nt6eryc9\n"
     ]
    },
    {
     "name": "stderr",
     "output_type": "stream",
     "text": [
      "\u001b[34m\u001b[1mwandb\u001b[0m: Agent Starting Run: mxmm93bp with config:\n",
      "\u001b[34m\u001b[1mwandb\u001b[0m: \tbatch_size: 64\n",
      "\u001b[34m\u001b[1mwandb\u001b[0m: \tlearning_rate: 0.007900663863569152\n",
      "\u001b[34m\u001b[1mwandb\u001b[0m: \tmax_epochs: 2\n",
      "\u001b[34m\u001b[1mwandb\u001b[0m: Currently logged in as: \u001b[33maxel-toft\u001b[0m. Use \u001b[1m`wandb login --relogin`\u001b[0m to force relogin\n"
     ]
    },
    {
     "data": {
      "text/html": [
       "Tracking run with wandb version 0.14.0"
      ],
      "text/plain": [
       "<IPython.core.display.HTML object>"
      ]
     },
     "metadata": {},
     "output_type": "display_data"
    },
    {
     "data": {
      "text/html": [
       "Run data is saved locally in <code>/Users/tallosimate/Documents/Projects/aau-deep-learning/mini-project/wandb/run-20230317_140622-mxmm93bp</code>"
      ],
      "text/plain": [
       "<IPython.core.display.HTML object>"
      ]
     },
     "metadata": {},
     "output_type": "display_data"
    },
    {
     "data": {
      "text/html": [
       "Syncing run <strong><a href='https://wandb.ai/axel-toft/cough-classifier/runs/mxmm93bp' target=\"_blank\">worldly-sweep-1</a></strong> to <a href='https://wandb.ai/axel-toft/cough-classifier' target=\"_blank\">Weights & Biases</a> (<a href='https://wandb.me/run' target=\"_blank\">docs</a>)<br/>Sweep page: <a href='https://wandb.ai/axel-toft/cough-classifier/sweeps/nt6eryc9' target=\"_blank\">https://wandb.ai/axel-toft/cough-classifier/sweeps/nt6eryc9</a>"
      ],
      "text/plain": [
       "<IPython.core.display.HTML object>"
      ]
     },
     "metadata": {},
     "output_type": "display_data"
    },
    {
     "data": {
      "text/html": [
       " View project at <a href='https://wandb.ai/axel-toft/cough-classifier' target=\"_blank\">https://wandb.ai/axel-toft/cough-classifier</a>"
      ],
      "text/plain": [
       "<IPython.core.display.HTML object>"
      ]
     },
     "metadata": {},
     "output_type": "display_data"
    },
    {
     "data": {
      "text/html": [
       " View sweep at <a href='https://wandb.ai/axel-toft/cough-classifier/sweeps/nt6eryc9' target=\"_blank\">https://wandb.ai/axel-toft/cough-classifier/sweeps/nt6eryc9</a>"
      ],
      "text/plain": [
       "<IPython.core.display.HTML object>"
      ]
     },
     "metadata": {},
     "output_type": "display_data"
    },
    {
     "data": {
      "text/html": [
       " View run at <a href='https://wandb.ai/axel-toft/cough-classifier/runs/mxmm93bp' target=\"_blank\">https://wandb.ai/axel-toft/cough-classifier/runs/mxmm93bp</a>"
      ],
      "text/plain": [
       "<IPython.core.display.HTML object>"
      ]
     },
     "metadata": {},
     "output_type": "display_data"
    },
    {
     "name": "stderr",
     "output_type": "stream",
     "text": [
      "/Users/tallosimate/anaconda3/envs/deep-learning/lib/python3.10/site-packages/pytorch_lightning/utilities/seed.py:47: LightningDeprecationWarning: `pytorch_lightning.utilities.seed.seed_everything` has been deprecated in v1.8.0 and will be removed in v2.0.0. Please use `lightning_fabric.utilities.seed.seed_everything` instead.\n",
      "  rank_zero_deprecation(\n",
      "Global seed set to 69\n",
      "/Users/tallosimate/anaconda3/envs/deep-learning/lib/python3.10/site-packages/pytorch_lightning/loggers/wandb.py:395: UserWarning: There is a wandb run already in progress and newly created instances of `WandbLogger` will reuse this run. If this is not desired, call `wandb.finish()` before instantiating `WandbLogger`.\n",
      "  rank_zero_warn(\n",
      "GPU available: True (mps), used: False\n",
      "TPU available: False, using: 0 TPU cores\n",
      "IPU available: False, using: 0 IPUs\n",
      "HPU available: False, using: 0 HPUs\n",
      "/Users/tallosimate/anaconda3/envs/deep-learning/lib/python3.10/site-packages/pytorch_lightning/trainer/setup.py:201: UserWarning: MPS available but not used. Set `accelerator` and `devices` using `Trainer(accelerator='mps', devices=1)`.\n",
      "  rank_zero_warn(\n",
      "\n",
      "  | Name      | Type               | Params\n",
      "-------------------------------------------------\n",
      "0 | model     | CoughModel         | 24.9 K\n",
      "1 | criterion | CrossEntropyLoss   | 0     \n",
      "2 | accuracy  | MulticlassAccuracy | 0     \n",
      "3 | f1        | MulticlassF1Score  | 0     \n",
      "-------------------------------------------------\n",
      "24.9 K    Trainable params\n",
      "0         Non-trainable params\n",
      "24.9 K    Total params\n",
      "0.100     Total estimated model params size (MB)\n"
     ]
    },
    {
     "name": "stdout",
     "output_type": "stream",
     "text": [
      "Using device: cpu\n"
     ]
    },
    {
     "data": {
      "application/vnd.jupyter.widget-view+json": {
       "model_id": "a07c502f199246209071135430ed74bd",
       "version_major": 2,
       "version_minor": 0
      },
      "text/plain": [
       "Sanity Checking: 0it [00:00, ?it/s]"
      ]
     },
     "metadata": {},
     "output_type": "display_data"
    },
    {
     "data": {
      "application/vnd.jupyter.widget-view+json": {
       "model_id": "282352a3e4ff4703a81645ea326f542c",
       "version_major": 2,
       "version_minor": 0
      },
      "text/plain": [
       "Training: 0it [00:00, ?it/s]"
      ]
     },
     "metadata": {},
     "output_type": "display_data"
    },
    {
     "data": {
      "application/vnd.jupyter.widget-view+json": {
       "model_id": "e98eb3a68db14f22adf059f94fea574d",
       "version_major": 2,
       "version_minor": 0
      },
      "text/plain": [
       "Validation: 0it [00:00, ?it/s]"
      ]
     },
     "metadata": {},
     "output_type": "display_data"
    },
    {
     "data": {
      "application/vnd.jupyter.widget-view+json": {
       "model_id": "4d81859c658d46d68c9d3375a9bde01c",
       "version_major": 2,
       "version_minor": 0
      },
      "text/plain": [
       "Validation: 0it [00:00, ?it/s]"
      ]
     },
     "metadata": {},
     "output_type": "display_data"
    },
    {
     "name": "stderr",
     "output_type": "stream",
     "text": [
      "`Trainer.fit` stopped: `max_epochs=2` reached.\n"
     ]
    },
    {
     "data": {
      "text/html": [
       "Waiting for W&B process to finish... <strong style=\"color:green\">(success).</strong>"
      ],
      "text/plain": [
       "<IPython.core.display.HTML object>"
      ]
     },
     "metadata": {},
     "output_type": "display_data"
    },
    {
     "data": {
      "text/html": [
       "<style>\n",
       "    table.wandb td:nth-child(1) { padding: 0 10px; text-align: left ; width: auto;} td:nth-child(2) {text-align: left ; width: 100%}\n",
       "    .wandb-row { display: flex; flex-direction: row; flex-wrap: wrap; justify-content: flex-start; width: 100% }\n",
       "    .wandb-col { display: flex; flex-direction: column; flex-basis: 100%; flex: 1; padding: 10px; }\n",
       "    </style>\n",
       "<div class=\"wandb-row\"><div class=\"wandb-col\"><h3>Run history:</h3><br/><table class=\"wandb\"><tr><td>epoch</td><td>▁▁▁▁████</td></tr><tr><td>train_accuracy</td><td>▁█</td></tr><tr><td>train_accuracy_epoch</td><td>▁█</td></tr><tr><td>train_accuracy_step</td><td>▁▆█▅</td></tr><tr><td>train_f1</td><td>▁█</td></tr><tr><td>train_f1_epoch</td><td>▁█</td></tr><tr><td>train_f1_step</td><td>▁▆█▅</td></tr><tr><td>train_loss_epoch</td><td>█▁</td></tr><tr><td>train_loss_step</td><td>█▄▁▄</td></tr><tr><td>trainer/global_step</td><td>▁▃▄▄▅▇██</td></tr><tr><td>val_loss</td><td>█▁</td></tr></table><br/></div><div class=\"wandb-col\"><h3>Run summary:</h3><br/><table class=\"wandb\"><tr><td>epoch</td><td>1</td></tr><tr><td>train_accuracy</td><td>0.72439</td></tr><tr><td>train_accuracy_epoch</td><td>0.72285</td></tr><tr><td>train_accuracy_step</td><td>0.70312</td></tr><tr><td>train_f1</td><td>0.72439</td></tr><tr><td>train_f1_epoch</td><td>0.72285</td></tr><tr><td>train_f1_step</td><td>0.70312</td></tr><tr><td>train_loss_epoch</td><td>0.84046</td></tr><tr><td>train_loss_step</td><td>0.85647</td></tr><tr><td>trainer/global_step</td><td>237</td></tr><tr><td>val_loss</td><td>0.83029</td></tr></table><br/></div></div>"
      ],
      "text/plain": [
       "<IPython.core.display.HTML object>"
      ]
     },
     "metadata": {},
     "output_type": "display_data"
    },
    {
     "data": {
      "text/html": [
       " View run <strong style=\"color:#cdcd00\">worldly-sweep-1</strong> at: <a href='https://wandb.ai/axel-toft/cough-classifier/runs/mxmm93bp' target=\"_blank\">https://wandb.ai/axel-toft/cough-classifier/runs/mxmm93bp</a><br/>Synced 6 W&B file(s), 0 media file(s), 1 artifact file(s) and 0 other file(s)"
      ],
      "text/plain": [
       "<IPython.core.display.HTML object>"
      ]
     },
     "metadata": {},
     "output_type": "display_data"
    },
    {
     "data": {
      "text/html": [
       "Find logs at: <code>./wandb/run-20230317_140622-mxmm93bp/logs</code>"
      ],
      "text/plain": [
       "<IPython.core.display.HTML object>"
      ]
     },
     "metadata": {},
     "output_type": "display_data"
    }
   ],
   "source": [
    "sweep_config = {\n",
    "  \"method\": \"bayes\",\n",
    "  \"metric\": {\n",
    "        \"name\": \"1_val/sharpe\",\n",
    "        \"goal\": \"maximize\"\n",
    "  },\n",
    "  \"parameters\": {\n",
    "    \"batch_size\": {\n",
    "        \"values\": [32, 64, 128]\n",
    "    },\n",
    "    \"max_epochs\": {\n",
    "        \"values\": [1, 2]\n",
    "    },\n",
    "    \"learning_rate\": {\n",
    "        \"min\": 0.001,\n",
    "        \"max\": 0.01\n",
    "    }\n",
    "  }\n",
    "}\n",
    "\n",
    "sweep_id = wandb.sweep(sweep_config, project='cough-classifier')\n",
    "\n",
    "wandb.agent(sweep_id, function=train, count=1)"
   ]
  }
 ],
 "metadata": {
  "kernelspec": {
   "display_name": "deep-learning",
   "language": "python",
   "name": "python3"
  },
  "language_info": {
   "codemirror_mode": {
    "name": "ipython",
    "version": 3
   },
   "file_extension": ".py",
   "mimetype": "text/x-python",
   "name": "python",
   "nbconvert_exporter": "python",
   "pygments_lexer": "ipython3",
   "version": "3.10.6"
  },
  "orig_nbformat": 4
 },
 "nbformat": 4,
 "nbformat_minor": 2
}
