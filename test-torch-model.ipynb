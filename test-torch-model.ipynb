{
 "cells": [
  {
   "cell_type": "code",
   "execution_count": 1,
   "metadata": {},
   "outputs": [],
   "source": [
    "import pandas as pd\n",
    "from torch.utils.data import random_split, DataLoader\n",
    "import matplotlib.pyplot as plt\n",
    "import torch\n",
    "\n",
    "from dataset import CoughDataset\n",
    "from model import CoughClassifier, training"
   ]
  },
  {
   "cell_type": "code",
   "execution_count": 2,
   "metadata": {},
   "outputs": [],
   "source": [
    "METADATA_FILE = 'data/metadata_compiled.csv'\n",
    "DATA_PATH = 'data/'\n",
    "\n",
    "metadata_df = pd.read_csv(METADATA_FILE)"
   ]
  },
  {
   "cell_type": "code",
   "execution_count": 3,
   "metadata": {},
   "outputs": [
    {
     "data": {
      "text/html": [
       "<div>\n",
       "<style scoped>\n",
       "    .dataframe tbody tr th:only-of-type {\n",
       "        vertical-align: middle;\n",
       "    }\n",
       "\n",
       "    .dataframe tbody tr th {\n",
       "        vertical-align: top;\n",
       "    }\n",
       "\n",
       "    .dataframe thead th {\n",
       "        text-align: right;\n",
       "    }\n",
       "</style>\n",
       "<table border=\"1\" class=\"dataframe\">\n",
       "  <thead>\n",
       "    <tr style=\"text-align: right;\">\n",
       "      <th></th>\n",
       "      <th>uuid</th>\n",
       "      <th>cough_detected</th>\n",
       "      <th>SNR</th>\n",
       "      <th>age</th>\n",
       "      <th>gender</th>\n",
       "      <th>status</th>\n",
       "    </tr>\n",
       "  </thead>\n",
       "  <tbody>\n",
       "    <tr>\n",
       "      <th>1</th>\n",
       "      <td>00039425-7f3a-42aa-ac13-834aaa2b6b92</td>\n",
       "      <td>0.9609</td>\n",
       "      <td>16.151433</td>\n",
       "      <td>15.0</td>\n",
       "      <td>male</td>\n",
       "      <td>healthy</td>\n",
       "    </tr>\n",
       "    <tr>\n",
       "      <th>3</th>\n",
       "      <td>0009eb28-d8be-4dc1-92bb-907e53bc5c7a</td>\n",
       "      <td>0.9301</td>\n",
       "      <td>20.146058</td>\n",
       "      <td>34.0</td>\n",
       "      <td>male</td>\n",
       "      <td>healthy</td>\n",
       "    </tr>\n",
       "    <tr>\n",
       "      <th>5</th>\n",
       "      <td>001328dc-ea5d-4847-9ccf-c5aa2a3f2d0f</td>\n",
       "      <td>0.9968</td>\n",
       "      <td>13.146502</td>\n",
       "      <td>21.0</td>\n",
       "      <td>male</td>\n",
       "      <td>healthy</td>\n",
       "    </tr>\n",
       "    <tr>\n",
       "      <th>11</th>\n",
       "      <td>00291cce-36a0-4a29-9e2d-c1d96ca17242</td>\n",
       "      <td>0.9883</td>\n",
       "      <td>14.603851</td>\n",
       "      <td>15.0</td>\n",
       "      <td>male</td>\n",
       "      <td>healthy</td>\n",
       "    </tr>\n",
       "    <tr>\n",
       "      <th>12</th>\n",
       "      <td>0029d048-898a-4c70-89c7-0815cdcf7391</td>\n",
       "      <td>1.0000</td>\n",
       "      <td>9.624196</td>\n",
       "      <td>35.0</td>\n",
       "      <td>male</td>\n",
       "      <td>symptomatic</td>\n",
       "    </tr>\n",
       "    <tr>\n",
       "      <th>...</th>\n",
       "      <td>...</td>\n",
       "      <td>...</td>\n",
       "      <td>...</td>\n",
       "      <td>...</td>\n",
       "      <td>...</td>\n",
       "      <td>...</td>\n",
       "    </tr>\n",
       "    <tr>\n",
       "      <th>27535</th>\n",
       "      <td>ffd42893-4119-4855-9aad-c67d8d392cc1</td>\n",
       "      <td>0.9414</td>\n",
       "      <td>28.530965</td>\n",
       "      <td>26.0</td>\n",
       "      <td>male</td>\n",
       "      <td>healthy</td>\n",
       "    </tr>\n",
       "    <tr>\n",
       "      <th>27539</th>\n",
       "      <td>ffe0658f-bade-4654-ad79-40a468aabb03</td>\n",
       "      <td>1.0000</td>\n",
       "      <td>21.960583</td>\n",
       "      <td>22.0</td>\n",
       "      <td>male</td>\n",
       "      <td>COVID-19</td>\n",
       "    </tr>\n",
       "    <tr>\n",
       "      <th>27540</th>\n",
       "      <td>ffe13fcf-c5c2-4a6a-a9fc-e010f4f033c1</td>\n",
       "      <td>0.9485</td>\n",
       "      <td>9.966762</td>\n",
       "      <td>31.0</td>\n",
       "      <td>male</td>\n",
       "      <td>symptomatic</td>\n",
       "    </tr>\n",
       "    <tr>\n",
       "      <th>27542</th>\n",
       "      <td>ffedc843-bfc2-4ad6-a749-2bc86bdac84a</td>\n",
       "      <td>1.0000</td>\n",
       "      <td>33.661082</td>\n",
       "      <td>23.0</td>\n",
       "      <td>male</td>\n",
       "      <td>healthy</td>\n",
       "    </tr>\n",
       "    <tr>\n",
       "      <th>27543</th>\n",
       "      <td>ffeea120-92a4-40f9-b692-c3865c7a983f</td>\n",
       "      <td>0.9784</td>\n",
       "      <td>9.635425</td>\n",
       "      <td>22.0</td>\n",
       "      <td>female</td>\n",
       "      <td>healthy</td>\n",
       "    </tr>\n",
       "  </tbody>\n",
       "</table>\n",
       "<p>9471 rows × 6 columns</p>\n",
       "</div>"
      ],
      "text/plain": [
       "                                       uuid  cough_detected        SNR   age  \\\n",
       "1      00039425-7f3a-42aa-ac13-834aaa2b6b92          0.9609  16.151433  15.0   \n",
       "3      0009eb28-d8be-4dc1-92bb-907e53bc5c7a          0.9301  20.146058  34.0   \n",
       "5      001328dc-ea5d-4847-9ccf-c5aa2a3f2d0f          0.9968  13.146502  21.0   \n",
       "11     00291cce-36a0-4a29-9e2d-c1d96ca17242          0.9883  14.603851  15.0   \n",
       "12     0029d048-898a-4c70-89c7-0815cdcf7391          1.0000   9.624196  35.0   \n",
       "...                                     ...             ...        ...   ...   \n",
       "27535  ffd42893-4119-4855-9aad-c67d8d392cc1          0.9414  28.530965  26.0   \n",
       "27539  ffe0658f-bade-4654-ad79-40a468aabb03          1.0000  21.960583  22.0   \n",
       "27540  ffe13fcf-c5c2-4a6a-a9fc-e010f4f033c1          0.9485   9.966762  31.0   \n",
       "27542  ffedc843-bfc2-4ad6-a749-2bc86bdac84a          1.0000  33.661082  23.0   \n",
       "27543  ffeea120-92a4-40f9-b692-c3865c7a983f          0.9784   9.635425  22.0   \n",
       "\n",
       "       gender       status  \n",
       "1        male      healthy  \n",
       "3        male      healthy  \n",
       "5        male      healthy  \n",
       "11       male      healthy  \n",
       "12       male  symptomatic  \n",
       "...       ...          ...  \n",
       "27535    male      healthy  \n",
       "27539    male     COVID-19  \n",
       "27540    male  symptomatic  \n",
       "27542    male      healthy  \n",
       "27543  female      healthy  \n",
       "\n",
       "[9471 rows x 6 columns]"
      ]
     },
     "execution_count": 3,
     "metadata": {},
     "output_type": "execute_result"
    }
   ],
   "source": [
    "not_nan_df = metadata_df[metadata_df['status'].isna() == False]\n",
    "filtered_df = not_nan_df[not_nan_df['cough_detected'] > 0.9]\n",
    "filtered_df[['uuid', 'cough_detected', 'SNR', 'age', 'gender', 'status']]"
   ]
  },
  {
   "cell_type": "code",
   "execution_count": 4,
   "metadata": {},
   "outputs": [
    {
     "data": {
      "text/plain": [
       "healthy        7075\n",
       "symptomatic    1697\n",
       "COVID-19        699\n",
       "Name: status, dtype: int64"
      ]
     },
     "execution_count": 4,
     "metadata": {},
     "output_type": "execute_result"
    }
   ],
   "source": [
    "filtered_df['status'].value_counts()"
   ]
  },
  {
   "cell_type": "code",
   "execution_count": 5,
   "metadata": {},
   "outputs": [],
   "source": [
    "covid_dataset = CoughDataset(filtered_df, DATA_PATH)"
   ]
  },
  {
   "cell_type": "code",
   "execution_count": 6,
   "metadata": {},
   "outputs": [
    {
     "data": {
      "text/plain": [
       "array(['COVID-19', 'healthy', 'symptomatic'], dtype=object)"
      ]
     },
     "execution_count": 6,
     "metadata": {},
     "output_type": "execute_result"
    }
   ],
   "source": [
    "covid_dataset.label_encoder.classes_"
   ]
  },
  {
   "cell_type": "code",
   "execution_count": 7,
   "metadata": {},
   "outputs": [
    {
     "name": "stdout",
     "output_type": "stream",
     "text": [
      "torch.Size([1, 64, 938])\n"
     ]
    },
    {
     "data": {
      "image/png": "[encoded data removed]",
      "text/plain": [
       "<Figure size 1080x288 with 2 Axes>"
      ]
     },
     "metadata": {
      "needs_background": "light"
     },
     "output_type": "display_data"
    }
   ],
   "source": [
    "spec, label_id = covid_dataset[254]\n",
    "print(spec.shape)\n",
    "\n",
    "fig, axs = plt.subplots(1, 1, figsize=(15, 4))\n",
    "\n",
    "axs.set_title('Mel-Spectrogram (dB)')\n",
    "axs.set_xlabel('frames')\n",
    "axs.set_ylabel('mel bins')\n",
    "\n",
    "im = axs.imshow(spec[0], origin='lower', aspect='auto')\n",
    "fig.colorbar(im, ax=axs)\n",
    "\n",
    "plt.show(block=False)"
   ]
  },
  {
   "cell_type": "code",
   "execution_count": 8,
   "metadata": {},
   "outputs": [],
   "source": [
    "BATCH_SIZE = 32\n",
    "TRAIN_SPLIT = 0.8\n",
    "\n",
    "num_train = int(len(covid_dataset) * TRAIN_SPLIT)\n",
    "num_val = len(covid_dataset) - num_train\n",
    "\n",
    "train_dataset, val_dataset = random_split(covid_dataset, [num_train, num_val])\n",
    "\n",
    "train_dataloader = DataLoader(train_dataset, batch_size=BATCH_SIZE, shuffle=True)\n",
    "val_dataloader = DataLoader(val_dataset, batch_size=BATCH_SIZE, shuffle=True)"
   ]
  },
  {
   "cell_type": "code",
   "execution_count": 9,
   "metadata": {},
   "outputs": [],
   "source": [
    "model = CoughClassifier()\n",
    "\n",
    "device = torch.device('cuda' if torch.cuda.is_available() else 'cpu')\n",
    "model = model.to(device)"
   ]
  },
  {
   "cell_type": "code",
   "execution_count": 10,
   "metadata": {},
   "outputs": [
    {
     "name": "stdout",
     "output_type": "stream",
     "text": [
      "----------------------------------------------------------------\n",
      "        Layer (type)               Output Shape         Param #\n",
      "================================================================\n",
      "            Conv2d-1           [-1, 8, 32, 469]             208\n",
      "              ReLU-2           [-1, 8, 32, 469]               0\n",
      "       BatchNorm2d-3           [-1, 8, 32, 469]              16\n",
      "            Conv2d-4          [-1, 16, 16, 235]           1,168\n",
      "              ReLU-5          [-1, 16, 16, 235]               0\n",
      "       BatchNorm2d-6          [-1, 16, 16, 235]              32\n",
      "            Conv2d-7           [-1, 32, 8, 118]           4,640\n",
      "              ReLU-8           [-1, 32, 8, 118]               0\n",
      "       BatchNorm2d-9           [-1, 32, 8, 118]              64\n",
      "           Conv2d-10            [-1, 64, 4, 59]          18,496\n",
      "             ReLU-11            [-1, 64, 4, 59]               0\n",
      "      BatchNorm2d-12            [-1, 64, 4, 59]             128\n",
      "AdaptiveAvgPool2d-13             [-1, 64, 1, 1]               0\n",
      "           Linear-14                    [-1, 3]             195\n",
      "          Softmax-15                    [-1, 3]               0\n",
      "================================================================\n",
      "Total params: 24,947\n",
      "Trainable params: 24,947\n",
      "Non-trainable params: 0\n",
      "----------------------------------------------------------------\n",
      "Input size (MB): 0.23\n",
      "Forward/backward pass size (MB): 5.16\n",
      "Params size (MB): 0.10\n",
      "Estimated Total Size (MB): 5.49\n",
      "----------------------------------------------------------------\n"
     ]
    }
   ],
   "source": [
    "from torchsummary import summary\n",
    "summary(model, input_size=(spec.shape))"
   ]
  },
  {
   "cell_type": "code",
   "execution_count": null,
   "metadata": {},
   "outputs": [],
   "source": [
    "training(model, train_dataloader, 2)"
   ]
  },
  {
   "cell_type": "code",
   "execution_count": null,
   "metadata": {},
   "outputs": [
    {
     "data": {
      "text/plain": [
       "array(['symptomatic', 'COVID-19', 'symptomatic', 'symptomatic',\n",
       "       'symptomatic', 'symptomatic', 'healthy', 'symptomatic',\n",
       "       'symptomatic', 'healthy', 'COVID-19', 'healthy', 'healthy',\n",
       "       'COVID-19', 'COVID-19', 'symptomatic', 'healthy', 'symptomatic',\n",
       "       'symptomatic', 'COVID-19', 'COVID-19', 'COVID-19', 'symptomatic',\n",
       "       'symptomatic', 'COVID-19', 'COVID-19', 'symptomatic', 'COVID-19',\n",
       "       'symptomatic', 'symptomatic', 'symptomatic', 'symptomatic'],\n",
       "      dtype=object)"
      ]
     },
     "execution_count": 10,
     "metadata": {},
     "output_type": "execute_result"
    }
   ],
   "source": [
    "# TODO - Create a function to test the model\n",
    "covid_dataset.label_encoder.inverse_transform(outputs.argmax(dim=1).cpu().numpy())"
   ]
  }
 ],
 "metadata": {
  "kernelspec": {
   "display_name": "machine-learning",
   "language": "python",
   "name": "python3"
  },
  "language_info": {
   "codemirror_mode": {
    "name": "ipython",
    "version": 3
   },
   "file_extension": ".py",
   "mimetype": "text/x-python",
   "name": "python",
   "nbconvert_exporter": "python",
   "pygments_lexer": "ipython3",
   "version": "3.10.9"
  },
  "orig_nbformat": 4,
  "vscode": {
   "interpreter": {
    "hash": "cd9e4fcb2220c3e20a32e629766165bb66c6b69635fb3a79566f0e2602efa810"
   }
  }
 },
 "nbformat": 4,
 "nbformat_minor": 2
}
