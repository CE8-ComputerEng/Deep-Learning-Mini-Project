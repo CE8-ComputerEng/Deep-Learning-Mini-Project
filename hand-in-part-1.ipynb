{
 "cells": [
  {
   "cell_type": "code",
   "execution_count": 1,
   "metadata": {},
   "outputs": [],
   "source": [
    "import pandas as pd\n",
    "import numpy as np\n",
    "import glob\n",
    "import torchaudio\n",
    "from torchaudio import transforms\n",
    "import matplotlib.pyplot as plt\n",
    "from IPython.display import Audio"
   ]
  },
  {
   "cell_type": "code",
   "execution_count": 2,
   "metadata": {},
   "outputs": [],
   "source": [
    "METADATA_FILE = 'data/metadata_compiled.csv'\n",
    "metadata_df = pd.read_csv(METADATA_FILE)"
   ]
  },
  {
   "attachments": {},
   "cell_type": "markdown",
   "metadata": {},
   "source": [
    "# Part 1: Explore the dataset through code"
   ]
  },
  {
   "attachments": {},
   "cell_type": "markdown",
   "metadata": {},
   "source": [
    "## a. How many samples does the dataset contain?"
   ]
  },
  {
   "cell_type": "code",
   "execution_count": 3,
   "metadata": {},
   "outputs": [
    {
     "name": "stdout",
     "output_type": "stream",
     "text": [
      "Dataset contains 27550 samples in total.\n"
     ]
    }
   ],
   "source": [
    "sample_count = metadata_df.shape[0]\n",
    "\n",
    "print(f'Dataset contains {sample_count} samples in total.')"
   ]
  },
  {
   "attachments": {},
   "cell_type": "markdown",
   "metadata": {},
   "source": [
    "## b. How many classes? How many images per class? Show a histogram of the number of instances per class."
   ]
  },
  {
   "cell_type": "code",
   "execution_count": 4,
   "metadata": {},
   "outputs": [
    {
     "name": "stdout",
     "output_type": "stream",
     "text": [
      "Columns in metadata file: 51\n"
     ]
    },
    {
     "data": {
      "text/plain": [
       "Index(['uuid', 'datetime', 'cough_detected', 'SNR', 'latitude', 'longitude',\n",
       "       'age', 'gender', 'respiratory_condition', 'fever_muscle_pain', 'status',\n",
       "       'quality_1', 'cough_type_1', 'dyspnea_1', 'wheezing_1', 'stridor_1',\n",
       "       'choking_1', 'congestion_1', 'nothing_1', 'diagnosis_1', 'severity_1',\n",
       "       'quality_2', 'cough_type_2', 'dyspnea_2', 'wheezing_2', 'stridor_2',\n",
       "       'choking_2', 'congestion_2', 'nothing_2', 'diagnosis_2', 'severity_2',\n",
       "       'quality_3', 'cough_type_3', 'dyspnea_3', 'wheezing_3', 'stridor_3',\n",
       "       'choking_3', 'congestion_3', 'nothing_3', 'diagnosis_3', 'severity_3',\n",
       "       'quality_4', 'cough_type_4', 'dyspnea_4', 'wheezing_4', 'stridor_4',\n",
       "       'choking_4', 'congestion_4', 'nothing_4', 'diagnosis_4', 'severity_4'],\n",
       "      dtype='object')"
      ]
     },
     "execution_count": 4,
     "metadata": {},
     "output_type": "execute_result"
    }
   ],
   "source": [
    "print('Columns in metadata file:', len(metadata_df.columns))\n",
    "metadata_df.columns"
   ]
  },
  {
   "cell_type": "code",
   "execution_count": 5,
   "metadata": {},
   "outputs": [
    {
     "data": {
      "text/plain": [
       "healthy        12479\n",
       "symptomatic     2590\n",
       "COVID-19        1155\n",
       "Name: status, dtype: int64"
      ]
     },
     "execution_count": 5,
     "metadata": {},
     "output_type": "execute_result"
    }
   ],
   "source": [
    "metadata_df['status'].value_counts()"
   ]
  },
  {
   "attachments": {},
   "cell_type": "markdown",
   "metadata": {},
   "source": [
    "From the 51 cloums we only focused on the `status` column. We can see that there are 3 classes (`healthy`, `symptomatic` and `COVID-19`) in the dataset. The number of images per class is shown in the histogram below."
   ]
  }
 ],
 "metadata": {
  "kernelspec": {
   "display_name": "deep-learning",
   "language": "python",
   "name": "python3"
  },
  "language_info": {
   "codemirror_mode": {
    "name": "ipython",
    "version": 3
   },
   "file_extension": ".py",
   "mimetype": "text/x-python",
   "name": "python",
   "nbconvert_exporter": "python",
   "pygments_lexer": "ipython3",
   "version": "3.10.9"
  },
  "orig_nbformat": 4
 },
 "nbformat": 4,
 "nbformat_minor": 2
}
