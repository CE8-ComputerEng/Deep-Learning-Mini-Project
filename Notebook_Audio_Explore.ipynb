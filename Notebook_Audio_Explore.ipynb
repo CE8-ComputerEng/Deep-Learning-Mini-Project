{
 "cells": [
  {
   "cell_type": "code",
   "execution_count": 27,
   "id": "297b4042",
   "metadata": {},
   "outputs": [],
   "source": [
    "import IPython\n",
    "import os\n",
    "import pandas as pd"
   ]
  },
  {
   "cell_type": "code",
   "execution_count": 28,
   "id": "d8ecac93",
   "metadata": {},
   "outputs": [
    {
     "name": "stdout",
     "output_type": "stream",
     "text": [
      "Enter path to data folder:\n",
      "data\n"
     ]
    }
   ],
   "source": [
    "data_path = input(\"Enter path to data folder:\\n\")"
   ]
  },
  {
   "cell_type": "code",
   "execution_count": 29,
   "id": "612645d4",
   "metadata": {},
   "outputs": [],
   "source": [
    "dataframe = pd.read_csv(data_path+\"/\"+'metadata_compiled.csv')\n",
    "\n",
    "healthy_samples = dataframe[dataframe['status'] == 'healthy']\n",
    "covid_samples = dataframe[dataframe['status'] == 'COVID-19']\n",
    "symptomatic_samples = dataframe[dataframe['status'] == 'symptomatic']"
   ]
  },
  {
   "cell_type": "code",
   "execution_count": 30,
   "id": "ca368d3e",
   "metadata": {},
   "outputs": [
    {
     "data": {
      "text/html": [
       "\n",
       "                <audio  controls=\"controls\" >\n",
       "                    <source src=\"data:video/webm;base64,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\" type=\"video/webm\" />\n",
       "                    Your browser does not support the audio element.\n",
       "                </audio>\n",
       "              "
      ],
      "text/plain": [
       "<IPython.lib.display.Audio object>"
      ]
     },
     "metadata": {},
     "output_type": "display_data"
    },
    {
     "name": "stdout",
     "output_type": "stream",
     "text": [
      "Created .webm play\n",
      "Path:data/00039425-7f3a-42aa-ac13-834aaa2b6b92.webm\n"
     ]
    }
   ],
   "source": [
    "print(\"Playing a healthy sample\")\n",
    "try:\n",
    "    IPython.display.display(IPython.display.Audio(data_path+\"/\"+healthy_samples.iloc[0]['uuid']+\".webm\"))\n",
    "except:\n",
    "    Audio(data_path+\"/\"+healthy_samples.iloc[0]['uuid']+\".ogg\")"
   ]
  },
  {
   "cell_type": "code",
   "execution_count": null,
   "id": "6bbf9b32",
   "metadata": {},
   "outputs": [],
   "source": [
    "print(\"Playing a covid sample\")\n",
    "try:\n",
    "    IPython.display.display(IPython.display.Audio(data_path+\"/\"+healthy_samples.iloc[0]['uuid']+\".webm\"))\n",
    "except:\n",
    "    Audio(data_path+\"/\"+healthy_samples.iloc[0]['uuid']+\".ogg\")"
   ]
  },
  {
   "cell_type": "code",
   "execution_count": null,
   "id": "317e33fe",
   "metadata": {},
   "outputs": [],
   "source": []
  }
 ],
 "metadata": {
  "kernelspec": {
   "display_name": "Python 3 (ipykernel)",
   "language": "python",
   "name": "python3"
  },
  "language_info": {
   "codemirror_mode": {
    "name": "ipython",
    "version": 3
   },
   "file_extension": ".py",
   "mimetype": "text/x-python",
   "name": "python",
   "nbconvert_exporter": "python",
   "pygments_lexer": "ipython3",
   "version": "3.9.12"
  }
 },
 "nbformat": 4,
 "nbformat_minor": 5
}
